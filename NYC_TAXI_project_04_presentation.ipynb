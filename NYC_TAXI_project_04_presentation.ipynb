{
 "cells": [
  {
   "cell_type": "code",
   "execution_count": 1,
   "metadata": {
    "slideshow": {
     "slide_type": "skip"
    }
   },
   "outputs": [],
   "source": [
    "from IPython.display import Image\n",
    "from IPython.display import HTML, IFrame"
   ]
  },
  {
   "cell_type": "markdown",
   "metadata": {
    "slideshow": {
     "slide_type": "slide"
    }
   },
   "source": [
    "<div align='center'  class=\"alert alert-warning\" role=\"alert\">\n",
    "    <h1 >Финальный проект</h1>\n",
    "    <h2>Евгении Хомяковой</h2>\n",
    "    <h4>Специализация 'Машинное обучение и анализ данных'</h4>\n",
    "    <h1>Прогнозирование числа поездок из зон такси города Нью-Йорка</h1>\n",
    "    <h6>июнь 2020 года</h6>\n",
    "</div>"
   ]
  },
  {
   "cell_type": "markdown",
   "metadata": {
    "slideshow": {
     "slide_type": "slide"
    }
   },
   "source": [
    "Пожалуйста, прежде чем смотреть дальше, убедитесь, что папка `exp` находится в том же месте, где этот html-файл (иначе картинок не будет)"
   ]
  },
  {
   "cell_type": "markdown",
   "metadata": {
    "slideshow": {
     "slide_type": "slide"
    }
   },
   "source": [
    "<div align='left'>Нью-Йоркская комиссия по такси и лимузинам (TLC) предоставляет подробные анонимизированные данные о поездках клиентов с 2009 года. Эти данные о поездках желтого такси, сгруппированные по месяцам каждого года, скачиваю отсюда\n",
    "</div>\n",
    "<div align='left'><a href=\"URL\">https://www1.nyc.gov/site/tlc/about/tlc-trip-record-data.page</a>\n",
    "</div>\n",
    "<br>\n",
    "<div align='left'><strong>Дисклеймер:</strong> из-за ограниченных вычислительных мощностей буду анализировать данные за 2016-2018 годы.\n",
    "</div>\n",
    "<div align='left'>\n",
    "    <strong>Задача проекта:</strong> научиться предсказывать количество поездок в ближайшие часы в каждой зоне такси Нью-Йорка.\n",
    "</div>\n",
    "<br>\n",
    "<div align='left'><strong><em>Задачу прогнозирования таких рядов буду решать с помощью авторегрессионных моделей, прогнозируя каждый ряд независимо.</em></strong>\n",
    "</div>"
   ]
  },
  {
   "cell_type": "markdown",
   "metadata": {
    "slideshow": {
     "slide_type": "slide"
    }
   },
   "source": [
    "###  Зоны такси\n",
    "С сайта TLC скачиваем shapefile c координатами зон, на которые поделен город:\n",
    "https://s3.amazonaws.com/nyc-tlc/misc/taxi_zones.zip\n",
    "\n",
    "Он содержит информацию о 263 зонах, с коррдинатами зон, названиями и ID:"
   ]
  },
  {
   "cell_type": "markdown",
   "metadata": {
    "slideshow": {
     "slide_type": "slide"
    }
   },
   "source": [
    "Вот как эти зоны выглядят на карте:"
   ]
  },
  {
   "cell_type": "code",
   "execution_count": 2,
   "metadata": {
    "slideshow": {
     "slide_type": "subslide"
    }
   },
   "outputs": [
    {
     "data": {
      "text/html": [
       "\n",
       "        <iframe\n",
       "            width=\"600\"\n",
       "            height=\"600\"\n",
       "            src=\"exp/zones_gdf.png?unconfined=True\"\n",
       "            frameborder=\"0\"\n",
       "            allowfullscreen\n",
       "        ></iframe>\n",
       "        "
      ],
      "text/plain": [
       "<IPython.lib.display.IFrame at 0x1dd1d9e2b80>"
      ]
     },
     "execution_count": 2,
     "metadata": {},
     "output_type": "execute_result"
    }
   ],
   "source": [
    "IFrame('exp/zones_gdf.png', 600, 600, unconfined=True)"
   ]
  },
  {
   "cell_type": "markdown",
   "metadata": {
    "slideshow": {
     "slide_type": "slide"
    }
   },
   "source": [
    "И в интерактивном режиме:"
   ]
  },
  {
   "cell_type": "code",
   "execution_count": 3,
   "metadata": {
    "slideshow": {
     "slide_type": "subslide"
    }
   },
   "outputs": [
    {
     "data": {
      "text/html": [
       "\n",
       "        <iframe\n",
       "            width=\"800\"\n",
       "            height=\"600\"\n",
       "            src=\"exp/interactive_taxi_zones.html?unconfined=True\"\n",
       "            frameborder=\"0\"\n",
       "            allowfullscreen\n",
       "        ></iframe>\n",
       "        "
      ],
      "text/plain": [
       "<IPython.lib.display.IFrame at 0x1dd1d9fd610>"
      ]
     },
     "execution_count": 3,
     "metadata": {},
     "output_type": "execute_result"
    }
   ],
   "source": [
    "IFrame('exp/interactive_taxi_zones.html', 800, 600, unconfined=True)"
   ]
  },
  {
   "cell_type": "markdown",
   "metadata": {
    "slideshow": {
     "slide_type": "slide"
    }
   },
   "source": [
    "#### Обработка сырых данных:\n",
    "\n",
    "Сырые данные были отфильрованы от ошибок и аномалий, а затем размечены по этим зонам и агрегированы - получились временные ряды для каждой зоны отдельно.\n",
    "\n",
    "#### Обучение и тест\n",
    "\n",
    "Нужно обозначить дату, разделяющую данные на две части - обучение и тест. Отбирать ряды, кластеризовать их, а так же обучать прогнозирующие модели будем на данных до 2018/06/30 23:00, а **предсказывать будем на июль 2018 года**.\n"
   ]
  },
  {
   "cell_type": "markdown",
   "metadata": {
    "slideshow": {
     "slide_type": "slide"
    }
   },
   "source": [
    "Вот такие получаются ряды:"
   ]
  },
  {
   "cell_type": "code",
   "execution_count": 4,
   "metadata": {
    "slideshow": {
     "slide_type": "subslide"
    }
   },
   "outputs": [
    {
     "data": {
      "text/html": [
       "\n",
       "        <iframe\n",
       "            width=\"900\"\n",
       "            height=\"650\"\n",
       "            src=\"exp/interactive_some_timerows.html?unconfined=True\"\n",
       "            frameborder=\"0\"\n",
       "            allowfullscreen\n",
       "        ></iframe>\n",
       "        "
      ],
      "text/plain": [
       "<IPython.lib.display.IFrame at 0x1dd1d9fd340>"
      ]
     },
     "execution_count": 4,
     "metadata": {},
     "output_type": "execute_result"
    }
   ],
   "source": [
    "IFrame(\"exp/interactive_some_timerows.html\", 900, 650, unconfined=True)"
   ]
  },
  {
   "cell_type": "markdown",
   "metadata": {
    "slideshow": {
     "slide_type": "slide"
    }
   },
   "source": [
    "###  Отбор рядов и визуализация спроса на такси на карте\n",
    "~~Не все ряды одинаково полезны~~ Не все зоны одинаково востребованы -- прогнозировать спрос имеет смысл в популярных зонах, чтобы понимать, сколько в зоне должно быть доступных машин в каждый час."
   ]
  },
  {
   "cell_type": "markdown",
   "metadata": {
    "slideshow": {
     "slide_type": "subslide"
    }
   },
   "source": [
    "#### Посчитаем среднее число поездок из каждой зоны в час и раскрасим регионы в соответствии с полученными значениями.\n",
    "Работать будем с зонами, из которых среднее число поездок в час не меньше 5, таких зон получется 83 штуки:"
   ]
  },
  {
   "cell_type": "code",
   "execution_count": 5,
   "metadata": {
    "slideshow": {
     "slide_type": "subslide"
    }
   },
   "outputs": [
    {
     "data": {
      "text/html": [
       "\n",
       "        <iframe\n",
       "            width=\"650\"\n",
       "            height=\"650\"\n",
       "            src=\"exp/mean_colored_zones.html?unconfined=True\"\n",
       "            frameborder=\"0\"\n",
       "            allowfullscreen\n",
       "        ></iframe>\n",
       "        "
      ],
      "text/plain": [
       "<IPython.lib.display.IFrame at 0x1dd1d9fd460>"
      ]
     },
     "execution_count": 5,
     "metadata": {},
     "output_type": "execute_result"
    }
   ],
   "source": [
    "IFrame(\"exp/mean_colored_zones.html\", 650, 650, unconfined=True)"
   ]
  },
  {
   "cell_type": "markdown",
   "metadata": {
    "slideshow": {
     "slide_type": "slide"
    }
   },
   "source": [
    "### Построение модели\n",
    "В качестве прогнозирующей модели использовался **XGBoost**. Модель строилась отдельно для каждой из шести задач прогнозирования: $$\\hat{y}_{T+i|T}, i=1,\\dots,6$$"
   ]
  },
  {
   "cell_type": "markdown",
   "metadata": {
    "slideshow": {
     "slide_type": "fragment"
    }
   },
   "source": [
    "#### Построение признаковых описаний рядов\n",
    "Признаковое описание каждого ряда для построения модели формировалось из:\n",
    "1. Значений времени ряда\n",
    "2. Самих значений ряда (авторегрессионные признаки)\n",
    "3. Статистической информации о регионе из сырых данных (эти признаки напрямую не связаны со значениями целевой переменной)"
   ]
  },
  {
   "cell_type": "markdown",
   "metadata": {
    "slideshow": {
     "slide_type": "slide"
    }
   },
   "source": [
    "#### Отбор признаков для XGBoost\n",
    "Некоторые признаки могут быть несущественными или незначимыми для целевой переменной, и их включение в модель приводит к увеличению сложности модели, которую сложнее интерпретировать, а так же больше количество признаков увеличивает время обучения модели и уменьшает надежность предсказаний.\n",
    "\n",
    "Отбор признаков проводился следующим образом. Для каждой модели, обученной на всех созданных признаках, по **кросс-валидации для временных рядов** оценивалось качество по метрике **r2_score**, а затем признаки фильровались по значению **features_importances** (*XGBR.feature_importances_*) с порогом 0.01.\n",
    "\n",
    "Для прогнозирующих модели затем подбирались гиперпараметры: модели, обученные на отобранных признаках и с разными гиперпараметрами (через Bayesian Optimization Process) снова оценивались по метрике R2 на кросс-валидации ."
   ]
  },
  {
   "cell_type": "markdown",
   "metadata": {
    "slideshow": {
     "slide_type": "slide"
    }
   },
   "source": [
    "Отбор признаков и оптимизация гиперпараметром проводились не для каждого \"популярного\" ряда. Сначала проводилась кластеризация методом **KMeans**, и уже для кластерных центров проводились эти процессы. Все ряды делились на 3 кластера:"
   ]
  },
  {
   "cell_type": "code",
   "execution_count": 6,
   "metadata": {
    "slideshow": {
     "slide_type": "subslide"
    }
   },
   "outputs": [
    {
     "data": {
      "text/html": [
       "\n",
       "        <iframe\n",
       "            width=\"850\"\n",
       "            height=\"650\"\n",
       "            src=\"exp/clusterization.html?unconfined=True\"\n",
       "            frameborder=\"0\"\n",
       "            allowfullscreen\n",
       "        ></iframe>\n",
       "        "
      ],
      "text/plain": [
       "<IPython.lib.display.IFrame at 0x1dd1d9ddb80>"
      ]
     },
     "execution_count": 6,
     "metadata": {},
     "output_type": "execute_result"
    }
   ],
   "source": [
    "IFrame(\"exp/clusterization.html\", 850, 650, unconfined=True)"
   ]
  },
  {
   "cell_type": "markdown",
   "metadata": {
    "slideshow": {
     "slide_type": "slide"
    }
   },
   "source": [
    "Вот так выглядят ряды кластерных центров:"
   ]
  },
  {
   "cell_type": "code",
   "execution_count": 7,
   "metadata": {
    "slideshow": {
     "slide_type": "subslide"
    }
   },
   "outputs": [
    {
     "data": {
      "text/html": [
       "\n",
       "        <iframe\n",
       "            width=\"850\"\n",
       "            height=\"650\"\n",
       "            src=\"exp/centroid_timerows.html?unconfined=True\"\n",
       "            frameborder=\"0\"\n",
       "            allowfullscreen\n",
       "        ></iframe>\n",
       "        "
      ],
      "text/plain": [
       "<IPython.lib.display.IFrame at 0x1dd1d9fd730>"
      ]
     },
     "execution_count": 7,
     "metadata": {},
     "output_type": "execute_result"
    }
   ],
   "source": [
    "IFrame(\"exp/centroid_timerows.html\", 850, 650, unconfined=True)"
   ]
  },
  {
   "cell_type": "markdown",
   "metadata": {
    "slideshow": {
     "slide_type": "slide"
    }
   },
   "source": [
    "### Прогнозирование на июль 2018 года\n",
    "\n",
    "Выбранными моделями построим для каждой географической зоны и каждого конца истории от 2018.06.30 23:00 до 2018.07.31 17:00 прогнозы на 6 часов вперёд; ошибку прогноза считаем по следующему функционалу:\n",
    "\n",
    "$$Q_{july2018}=\\frac{1}{R∗739∗6}\\sum_{r=1}^{R}\\sum_{T=2018.06.30 23:00}^{2018.07.31 17:00}\\sum_{i=1}^{6}∣\\widehat{y}^{r}_{T|T+i}−{y}^{r}_{T+i}| $$ ,\n",
    "где R - это число рядов (83 у нас), 739 - количество часов в прогнозируемом периоде.\n",
    "\n",
    "$Q_{july2018}$ составила 15.43."
   ]
  },
  {
   "cell_type": "markdown",
   "metadata": {
    "slideshow": {
     "slide_type": "slide"
    }
   },
   "source": [
    "### Визуализация прогнозов на июль 2018 года\n",
    "Далее представлена визуализация фактического и прогнозируемого спроса на такси (на период июля 2018 года) в самых популярных зонах такси в виде временных рядов и на карте."
   ]
  },
  {
   "cell_type": "code",
   "execution_count": 8,
   "metadata": {
    "slideshow": {
     "slide_type": "subslide"
    }
   },
   "outputs": [
    {
     "data": {
      "text/html": [
       "\n",
       "        <iframe\n",
       "            width=\"1000\"\n",
       "            height=\"700\"\n",
       "            src=\"exp/real_and_predicted_timerows.gif?unconfined=True\"\n",
       "            frameborder=\"0\"\n",
       "            allowfullscreen\n",
       "        ></iframe>\n",
       "        "
      ],
      "text/plain": [
       "<IPython.lib.display.IFrame at 0x1dd1d9fd850>"
      ]
     },
     "execution_count": 8,
     "metadata": {},
     "output_type": "execute_result"
    }
   ],
   "source": [
    "IFrame('exp/real_and_predicted_timerows.gif', 1000, 700, unconfined=True)"
   ]
  },
  {
   "cell_type": "code",
   "execution_count": 9,
   "metadata": {
    "slideshow": {
     "slide_type": "subslide"
    }
   },
   "outputs": [
    {
     "data": {
      "text/html": [
       "\n",
       "        <iframe\n",
       "            width=\"1000\"\n",
       "            height=\"650\"\n",
       "            src=\"exp/map_with_predictions.gif?unconfined=True\"\n",
       "            frameborder=\"0\"\n",
       "            allowfullscreen\n",
       "        ></iframe>\n",
       "        "
      ],
      "text/plain": [
       "<IPython.lib.display.IFrame at 0x1dd1d9fdc10>"
      ]
     },
     "execution_count": 9,
     "metadata": {},
     "output_type": "execute_result"
    }
   ],
   "source": [
    "IFrame('exp/map_with_predictions.gif', 1000, 650, unconfined=True)"
   ]
  },
  {
   "cell_type": "markdown",
   "metadata": {
    "slideshow": {
     "slide_type": "skip"
    }
   },
   "source": [
    "jupyter nbconvert --to slides NYC_TAXI_project_04_presentation.ipynb --SlidesExporter.reveal_theme=serif --SlidesExporter.reveal_scroll=True"
   ]
  }
 ],
 "metadata": {
  "celltoolbar": "Slideshow",
  "kernelspec": {
   "display_name": "Python 3",
   "language": "python",
   "name": "python3"
  },
  "language_info": {
   "codemirror_mode": {
    "name": "ipython",
    "version": 3
   },
   "file_extension": ".py",
   "mimetype": "text/x-python",
   "name": "python",
   "nbconvert_exporter": "python",
   "pygments_lexer": "ipython3",
   "version": "3.8.3"
  }
 },
 "nbformat": 4,
 "nbformat_minor": 4
}
